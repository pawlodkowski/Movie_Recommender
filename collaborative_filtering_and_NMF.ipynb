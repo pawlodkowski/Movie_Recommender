{
 "cells": [
  {
   "cell_type": "markdown",
   "metadata": {},
   "source": [
    "# imports"
   ]
  },
  {
   "cell_type": "code",
   "execution_count": 72,
   "metadata": {},
   "outputs": [],
   "source": [
    "import pandas as pd\n",
    "import sqlite3\n",
    "import numpy as np\n",
    "from sklearn.decomposition import NMF\n",
    "from sklearn.metrics.pairwise import cosine_similarity"
   ]
  },
  {
   "cell_type": "code",
   "execution_count": 67,
   "metadata": {},
   "outputs": [],
   "source": [
    "def get_data_from_db(database_directory, tablename):\n",
    "    db = sqlite3.connect(database_directory)\n",
    "    query = f\"SELECT * FROM {tablename}\"\n",
    "    df = pd.read_sql(query, db)\n",
    "    return df\n",
    "\n",
    "def create_users_vs_movies_matrix(df):\n",
    "    df = df.drop(\"timestamp\", axis = 1)\n",
    "    df = df.set_index([\"userId\", \"movieId\"])\n",
    "    df = df.unstack()\n",
    "    df = df.fillna(0)\n",
    "    return df\n",
    "\n",
    "# def get_filterd_movie_ids(users_vs_movies_matrix):\n",
    "# Paul's function here"
   ]
  },
  {
   "cell_type": "code",
   "execution_count": 132,
   "metadata": {},
   "outputs": [],
   "source": [
    "d0 = get_data_from_db(\"data/movies.db\", \"ratings\")"
   ]
  },
  {
   "cell_type": "code",
   "execution_count": 133,
   "metadata": {},
   "outputs": [],
   "source": [
    "users_vs_movies_matrix = create_users_vs_movies_matrix(d0)\n",
    "filtered_users_vs_movies_matrix = users_vs_movies_matrix.copy()\n",
    "#filtered_users_vs_movies_matrix = users_vs_movies_matrix[filtered_columns]"
   ]
  },
  {
   "cell_type": "markdown",
   "metadata": {},
   "source": [
    "# Collaborative Filtering"
   ]
  },
  {
   "cell_type": "code",
   "execution_count": 125,
   "metadata": {},
   "outputs": [],
   "source": [
    "# Functions for comparing users against each other using cosine similarity\n",
    "def make_cosine_heatmap(df):\n",
    "    labels = list(df.index.values) \n",
    "    cosine_similarities = cosine_similarity(df)\n",
    "    results_df = pd.DataFrame(cosine_similarities, columns = labels, index = labels)\n",
    "    return results_df\n",
    "\n",
    "def get_similar_users(cosine_heatmap, userId):\n",
    "    results_for_one_user = cosine_heatmap.loc[userId].sort_values(ascending = False) # get similar users\n",
    "    similar_users = list(results_for_one_user.keys())[1:]\n",
    "    return similar_users"
   ]
  },
  {
   "cell_type": "code",
   "execution_count": 126,
   "metadata": {},
   "outputs": [],
   "source": [
    "#users_vs_movies_matrix = create_users_vs_movies_matrix(d0)\n",
    "cosine_heatmap = make_cosine_heatmap(users_vs_movies_matrix)\n",
    "similar_users = get_similar_users(cosine_heatmap, 1)"
   ]
  },
  {
   "cell_type": "code",
   "execution_count": 139,
   "metadata": {},
   "outputs": [],
   "source": [
    "#similar_users"
   ]
  },
  {
   "cell_type": "code",
   "execution_count": 138,
   "metadata": {},
   "outputs": [],
   "source": [
    "recommended_movie_ids = ((filtered_users_vs_movies_matrix.loc[1] == 0.0) & (filtered_users_vs_movies_matrix.loc[266] >= 4.0))\n",
    "#recommended_movie_ids\n",
    "# make function that creates list of recommended movies\n",
    "# --> FINISHED."
   ]
  },
  {
   "cell_type": "markdown",
   "metadata": {},
   "source": [
    "# NMF"
   ]
  },
  {
   "cell_type": "code",
   "execution_count": 135,
   "metadata": {},
   "outputs": [],
   "source": [
    "def get_NMF_results_matrix(trained_NMF_model, users_vs_movies_matrix):\n",
    "    R = users_vs_movies_matrix\n",
    "    user_ids = list(R.index.values) \n",
    "    movie_ids = list(R.columns.get_level_values(1).values) \n",
    "    P = model.components_  # movie feature\n",
    "    Q = model.transform(R)  # user feature\n",
    "    nR = np.dot(Q, P)\n",
    "    results = pd.DataFrame(nR, columns = movie_ids, index = user_ids)\n",
    "    return results"
   ]
  },
  {
   "cell_type": "code",
   "execution_count": 136,
   "metadata": {},
   "outputs": [
    {
     "data": {
      "text/plain": [
       "NMF(alpha=0.0, beta_loss='frobenius', init='random', l1_ratio=0.0,\n",
       "  max_iter=200, n_components=2, random_state=10, shuffle=False,\n",
       "  solver='cd', tol=0.0001, verbose=0)"
      ]
     },
     "execution_count": 136,
     "metadata": {},
     "output_type": "execute_result"
    }
   ],
   "source": [
    "R = users_vs_movies_matrix\n",
    "model = NMF(n_components=2, init='random', random_state=10)\n",
    "model.fit(R)"
   ]
  },
  {
   "cell_type": "code",
   "execution_count": 115,
   "metadata": {},
   "outputs": [],
   "source": [
    "NMF_results_matrix = get_NMF_results_matrix(model, R)"
   ]
  },
  {
   "cell_type": "code",
   "execution_count": 137,
   "metadata": {},
   "outputs": [],
   "source": [
    "#NMF_results_matrix"
   ]
  },
  {
   "cell_type": "code",
   "execution_count": null,
   "metadata": {},
   "outputs": [],
   "source": [
    "#query = [[0, 0, 5, 0]] \n",
    "#model.transform(query)\n",
    "#apply_filter by Paul\n",
    "# --> FINISHED."
   ]
  }
 ],
 "metadata": {
  "kernelspec": {
   "display_name": "Python 3",
   "language": "python",
   "name": "python3"
  },
  "language_info": {
   "codemirror_mode": {
    "name": "ipython",
    "version": 3
   },
   "file_extension": ".py",
   "mimetype": "text/x-python",
   "name": "python",
   "nbconvert_exporter": "python",
   "pygments_lexer": "ipython3",
   "version": "3.6.6"
  }
 },
 "nbformat": 4,
 "nbformat_minor": 2
}
