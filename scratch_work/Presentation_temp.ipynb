{
 "cells": [
  {
   "cell_type": "code",
   "execution_count": 3,
   "metadata": {},
   "outputs": [],
   "source": [
    "def translator_dictionary():\n",
    "\n",
    "    query3 = \"SELECT movieId, imdbId FROM links\"\n",
    "    df_translator = pd.read_sql(query3, db)\n",
    "    movie_IDs = list(df_translator['movieId'])\n",
    "    IMDB_IDs = list(df_translator['imdbId'])\n",
    "\n",
    "\n",
    "    ML_2_IMDB = dict(zip(movie_IDs, IMDB_IDs))\n",
    "    IMDB_2_ML = dict(zip(IMDB_IDs, movie_IDs))\n",
    "    \n",
    "    return IMDB_2_ML\n",
    "\n",
    "def convert_django(dataframe, django_data):\n",
    "    \n",
    "    new_user_row = pd.DataFrame(np.zeros(shape=(1,len(dataframe.columns))),\n",
    "                              columns=dataframe.columns)\n",
    "\n",
    "    dfs_to_concat = [dataframe, new_user_row]\n",
    "    combined = pd.concat(dfs_to_concat)\n",
    "    \n",
    "    translator = translator_dictionary()\n",
    "    \n",
    "    #Assuming that data coming from Django interface is a list of tuples\n",
    "    for pair in django_data:\n",
    "        movieId = translator[pair[0]]\n",
    "        combined.loc[0,('rating', movieId)] = pair[1] \n",
    "        #where 0 represents userId = 0, aka the new user\n",
    "        \n",
    "    return list(combined.loc[0])"
   ]
  },
  {
   "cell_type": "code",
   "execution_count": null,
   "metadata": {},
   "outputs": [],
   "source": [
    "query2 = \"SELECT * FROM ratings\"\n",
    "df_sandbox = pd.read_sql(query2, db)\n",
    "df_sandbox = df_sandbox.drop(\"timestamp\", axis = 1)\n",
    "df_sandbox = df_sandbox.set_index([\"userId\", \"movieId\"])\n",
    "users_vs_movies_matrix = df_sandbox.unstack()\n",
    "users_vs_movies_matrix = users_vs_movies_matrix.fillna(0)"
   ]
  },
  {
   "cell_type": "code",
   "execution_count": 2,
   "metadata": {},
   "outputs": [],
   "source": [
    "django_test = [(114709, 4.0), (114885, 5.0), (114319, 1.0), (112302, 3.0), (3837248, 3.0)]"
   ]
  },
  {
   "cell_type": "code",
   "execution_count": null,
   "metadata": {},
   "outputs": [],
   "source": [
    "\n",
    "new_user_row = pd.DataFrame(np.zeros(shape=(1,len(users_vs_movies_matrix.columns))),\n",
    "                              columns=users_vs_movies_matrix.columns)\n",
    "\n",
    "dfs_to_concat = [users_vs_movies_matrix, new_user_row]\n",
    "combined = pd.concat(dfs_to_concat)\n",
    "\n",
    "combined.tail()"
   ]
  }
 ],
 "metadata": {
  "kernelspec": {
   "display_name": "Python 3",
   "language": "python",
   "name": "python3"
  },
  "language_info": {
   "codemirror_mode": {
    "name": "ipython",
    "version": 3
   },
   "file_extension": ".py",
   "mimetype": "text/x-python",
   "name": "python",
   "nbconvert_exporter": "python",
   "pygments_lexer": "ipython3",
   "version": "3.6.5"
  }
 },
 "nbformat": 4,
 "nbformat_minor": 2
}
