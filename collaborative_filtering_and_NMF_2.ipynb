{
 "cells": [
  {
   "cell_type": "markdown",
   "metadata": {},
   "source": [
    "# imports"
   ]
  },
  {
   "cell_type": "code",
   "execution_count": 1,
   "metadata": {},
   "outputs": [],
   "source": [
    "import pandas as pd\n",
    "import sqlite3\n",
    "import numpy as np\n",
    "from sklearn.decomposition import NMF\n",
    "from sklearn.metrics.pairwise import cosine_similarity\n",
    "from  more_itertools import unique_everseen # deletes duplicates from list keeping their order"
   ]
  },
  {
   "cell_type": "code",
   "execution_count": 2,
   "metadata": {},
   "outputs": [],
   "source": [
    "def get_data_from_db(database_directory, tablename):\n",
    "    db = sqlite3.connect(database_directory)\n",
    "    query = f\"SELECT * FROM {tablename}\"\n",
    "    df = pd.read_sql(query, db)\n",
    "    return df\n",
    "\n",
    "def create_users_vs_movies_matrix(df):\n",
    "    df = df.drop(\"timestamp\", axis = 1)\n",
    "    df = df.set_index([\"userId\", \"movieId\"])\n",
    "    df = df.unstack()\n",
    "    df = df.fillna(0)\n",
    "    return df\n",
    "\n",
    "# def get_filterd_movie_ids(users_vs_movies_matrix):\n",
    "# Paul's function here"
   ]
  },
  {
   "cell_type": "markdown",
   "metadata": {},
   "source": [
    "# Load data"
   ]
  },
  {
   "cell_type": "code",
   "execution_count": 3,
   "metadata": {},
   "outputs": [],
   "source": [
    "d0 = get_data_from_db(\"data/movies.db\", \"ratings\")"
   ]
  },
  {
   "cell_type": "code",
   "execution_count": 4,
   "metadata": {},
   "outputs": [],
   "source": [
    "users_vs_movies_matrix = create_users_vs_movies_matrix(d0)"
   ]
  },
  {
   "cell_type": "markdown",
   "metadata": {},
   "source": [
    "# Collaborative Filtering"
   ]
  },
  {
   "cell_type": "code",
   "execution_count": 277,
   "metadata": {},
   "outputs": [],
   "source": [
    "# Functions for comparing users against each other using cosine similarity\n",
    "def make_cosine_heatmap(df):\n",
    "    labels = list(df.index.values) \n",
    "    cosine_similarities = cosine_similarity(df)\n",
    "    results_df = pd.DataFrame(cosine_similarities, columns = labels, index = labels)\n",
    "    return results_df\n",
    "\n",
    "def get_similar_users(cosine_heatmap, userId):\n",
    "    results_for_one_user = cosine_heatmap.loc[userId].sort_values(ascending = False) # get similar users\n",
    "    similar_users = list(results_for_one_user.keys())[1:]\n",
    "    return similar_users"
   ]
  },
  {
   "cell_type": "markdown",
   "metadata": {},
   "source": [
    "using collaborative filtering"
   ]
  },
  {
   "cell_type": "code",
   "execution_count": 321,
   "metadata": {},
   "outputs": [],
   "source": [
    "# create fake user input\n",
    "a = sorted(set(d0[\"movieId\"]))\n",
    "b = [0]*len(a)\n",
    "c = dict(zip(a,b))\n",
    "c[260] = 5.0\n",
    "c[1196] = 5.0\n",
    "c[1210] = 5.0\n",
    "c[2628] = 5.0\n",
    "c[5378] = 5.0\n",
    "c[33493] = 5.0\n",
    "reshaped_user_input = list(c.values()) # get from Paul later\n",
    "#reshaped_user_input"
   ]
  },
  {
   "cell_type": "code",
   "execution_count": 317,
   "metadata": {
    "scrolled": false
   },
   "outputs": [
    {
     "data": {
      "text/plain": [
       "[296,\n",
       " 2028,\n",
       " 2329,\n",
       " 32587,\n",
       " 44191,\n",
       " 48516,\n",
       " 1198,\n",
       " 2571,\n",
       " 3578,\n",
       " 3996,\n",
       " 4993,\n",
       " 5349,\n",
       " 5816,\n",
       " 5952,\n",
       " 7153,\n",
       " 8636,\n",
       " 8961,\n",
       " 33794,\n",
       " 58559,\n",
       " 110,\n",
       " 589,\n",
       " 858,\n",
       " 1036,\n",
       " 1200,\n",
       " 1214,\n",
       " 1221,\n",
       " 1291]"
      ]
     },
     "execution_count": 317,
     "metadata": {},
     "output_type": "execute_result"
    }
   ],
   "source": [
    "#create user row in dataframe\n",
    "user_input_df_row = pd.DataFrame(reshaped_user_input, index = a).transpose()\n",
    "user_input_df_row\n",
    "\n",
    "# add that user row into existing df\n",
    "users_vs_movies_matrix_complemented = users_vs_movies_matrix.copy()\n",
    "users_vs_movies_matrix_complemented.loc[0] = reshaped_user_input\n",
    "\n",
    "# determine ordered list of similar users via cosine similarity\n",
    "cosine_heatmap = make_cosine_heatmap(users_vs_movies_matrix_complemented)\n",
    "similar_users = get_similar_users(cosine_heatmap, 0)\n",
    "\n",
    "# apply filters, e.g. genre etc on dataframe\n",
    "filters = a  # e.g. [1,2,3,4,5,6,7,8,12,14,16]\n",
    "filtered_uvmm_complemented =  users_vs_movies_matrix_complemented[\"rating\"][filters]\n",
    "\n",
    "# go through every similar user, starting from most similar one, check for conditions below and append movieId to list\n",
    "recommended_movie_ids = []\n",
    "for user in similar_users:\n",
    "    checking_movies = ((filtered_uvmm_complemented.loc[0] == 0.0) & (filtered_uvmm_complemented.loc[user] >= 5.0))\n",
    "    d = dict(checking_movies)\n",
    "    recommended_movie_ids_from_user = list(filter(d.get, d)) #returning keys (movieids) from dict where value is True\n",
    "    recommended_movie_ids += recommended_movie_ids_from_user\n",
    "    recommended_movie_ids = list(unique_everseen(recommended_movie_ids)) # delete duplicates from list keeping their order \n",
    "    if len(recommended_movie_ids) >= 20:\n",
    "        break\n",
    "    \n",
    "recommended_movie_ids"
   ]
  },
  {
   "cell_type": "markdown",
   "metadata": {},
   "source": [
    "# NMF"
   ]
  },
  {
   "cell_type": "code",
   "execution_count": 278,
   "metadata": {},
   "outputs": [],
   "source": [
    "def get_NMF_results_matrix(trained_NMF_model, users_vs_movies_matrix):\n",
    "    R = users_vs_movies_matrix\n",
    "    user_ids = list(R.index.values) \n",
    "    movie_ids = list(R.columns.get_level_values(1).values) \n",
    "    P = model.components_  # movie feature\n",
    "    Q = model.transform(R)  # user feature\n",
    "    nR = np.dot(Q, P)\n",
    "    results = pd.DataFrame(nR, columns = movie_ids, index = user_ids)\n",
    "    return results"
   ]
  },
  {
   "cell_type": "code",
   "execution_count": 284,
   "metadata": {},
   "outputs": [],
   "source": [
    "NMF_results_matrix = get_NMF_results_matrix(model, R)"
   ]
  },
  {
   "cell_type": "code",
   "execution_count": 168,
   "metadata": {},
   "outputs": [],
   "source": [
    "NMF_results_matrix"
   ]
  },
  {
   "cell_type": "code",
   "execution_count": 5,
   "metadata": {},
   "outputs": [],
   "source": [
    "# Train model\n",
    "R = users_vs_movies_matrix\n",
    "model = NMF(n_components=10, init='random', random_state=10)\n",
    "model.fit(R)\n",
    "P = model.components_\n",
    "Q = model.transform(R)"
   ]
  },
  {
   "cell_type": "markdown",
   "metadata": {},
   "source": [
    "using NMF"
   ]
  },
  {
   "cell_type": "code",
   "execution_count": 6,
   "metadata": {},
   "outputs": [],
   "source": [
    "# create fake user input\n",
    "a = sorted(set(d0[\"movieId\"]))\n",
    "b = [0]*len(a)\n",
    "c = dict(zip(a,b))\n",
    "c[260] = 5.0\n",
    "c[1196] = 5.0\n",
    "c[1210] = 5.0\n",
    "c[2628] = 5.0\n",
    "c[5378] = 5.0\n",
    "c[33493] = 5.0\n",
    "reshaped_user_input = list(c.values()) # get from Paul later\n",
    "#len(reshaped_user_input)"
   ]
  },
  {
   "cell_type": "code",
   "execution_count": 293,
   "metadata": {},
   "outputs": [],
   "source": [
    "#testing other user as userinput\n",
    "#reshaped_user_input = list(users_vs_movies_matrix.loc[1])\n",
    "#len(user_input)"
   ]
  },
  {
   "cell_type": "code",
   "execution_count": 12,
   "metadata": {},
   "outputs": [
    {
     "data": {
      "text/html": [
       "<div>\n",
       "<style scoped>\n",
       "    .dataframe tbody tr th:only-of-type {\n",
       "        vertical-align: middle;\n",
       "    }\n",
       "\n",
       "    .dataframe tbody tr th {\n",
       "        vertical-align: top;\n",
       "    }\n",
       "\n",
       "    .dataframe thead th {\n",
       "        text-align: right;\n",
       "    }\n",
       "</style>\n",
       "<table border=\"1\" class=\"dataframe\">\n",
       "  <thead>\n",
       "    <tr style=\"text-align: right;\">\n",
       "      <th></th>\n",
       "      <th>movieId</th>\n",
       "      <th>NMF_score</th>\n",
       "    </tr>\n",
       "  </thead>\n",
       "  <tbody>\n",
       "    <tr>\n",
       "      <th>897</th>\n",
       "      <td>1196</td>\n",
       "      <td>0.376323</td>\n",
       "    </tr>\n",
       "    <tr>\n",
       "      <th>224</th>\n",
       "      <td>260</td>\n",
       "      <td>0.363021</td>\n",
       "    </tr>\n",
       "    <tr>\n",
       "      <th>910</th>\n",
       "      <td>1210</td>\n",
       "      <td>0.350568</td>\n",
       "    </tr>\n",
       "    <tr>\n",
       "      <th>1938</th>\n",
       "      <td>2571</td>\n",
       "      <td>0.317368</td>\n",
       "    </tr>\n",
       "    <tr>\n",
       "      <th>899</th>\n",
       "      <td>1198</td>\n",
       "      <td>0.306459</td>\n",
       "    </tr>\n",
       "    <tr>\n",
       "      <th>938</th>\n",
       "      <td>1240</td>\n",
       "      <td>0.293078</td>\n",
       "    </tr>\n",
       "    <tr>\n",
       "      <th>989</th>\n",
       "      <td>1291</td>\n",
       "      <td>0.289450</td>\n",
       "    </tr>\n",
       "    <tr>\n",
       "      <th>1502</th>\n",
       "      <td>2028</td>\n",
       "      <td>0.287778</td>\n",
       "    </tr>\n",
       "    <tr>\n",
       "      <th>507</th>\n",
       "      <td>589</td>\n",
       "      <td>0.273941</td>\n",
       "    </tr>\n",
       "    <tr>\n",
       "      <th>968</th>\n",
       "      <td>1270</td>\n",
       "      <td>0.268413</td>\n",
       "    </tr>\n",
       "  </tbody>\n",
       "</table>\n",
       "</div>"
      ],
      "text/plain": [
       "      movieId  NMF_score\n",
       "897      1196   0.376323\n",
       "224       260   0.363021\n",
       "910      1210   0.350568\n",
       "1938     2571   0.317368\n",
       "899      1198   0.306459\n",
       "938      1240   0.293078\n",
       "989      1291   0.289450\n",
       "1502     2028   0.287778\n",
       "507       589   0.273941\n",
       "968      1270   0.268413"
      ]
     },
     "execution_count": 12,
     "metadata": {},
     "output_type": "execute_result"
    }
   ],
   "source": [
    "# apply NMF for user\n",
    "user_Q = model.transform([reshaped_user_input])\n",
    "recommendations_user = np.dot(user_Q, P)\n",
    "\n",
    "# creating list of NMF_score and movieIds\n",
    "recommendations_user = list(recommendations_user[0])\n",
    "recommendations_with_movie_id = dict(zip(a, recommendations_user))\n",
    "\n",
    "# applying filters\n",
    "filters = a # [1,2,3,4,5,6,7,8,12,14,16]\n",
    "recommendations_with_movie_id_filtered = list([[x,recommendations_with_movie_id[x]] for x in filters])\n",
    "\n",
    "#putting results in dataframe\n",
    "results = pd.DataFrame(recommendations_with_movie_id_filtered, columns = [\"movieId\", \"NMF_score\"])\n",
    "results = results.sort_values(by = \"NMF_score\", ascending = False)\n",
    "#output = list(results[\"movieId\"])\n",
    "results.head(10)\n",
    "#output"
   ]
  },
  {
   "cell_type": "code",
   "execution_count": null,
   "metadata": {},
   "outputs": [],
   "source": [
    "# we need to remove results from the list that were rated by user in the beginning."
   ]
  }
 ],
 "metadata": {
  "kernelspec": {
   "display_name": "Python 3",
   "language": "python",
   "name": "python3"
  },
  "language_info": {
   "codemirror_mode": {
    "name": "ipython",
    "version": 3
   },
   "file_extension": ".py",
   "mimetype": "text/x-python",
   "name": "python",
   "nbconvert_exporter": "python",
   "pygments_lexer": "ipython3",
   "version": "3.6.6"
  }
 },
 "nbformat": 4,
 "nbformat_minor": 2
}
