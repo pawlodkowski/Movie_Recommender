{
 "cells": [
  {
   "cell_type": "code",
   "execution_count": 2,
   "metadata": {},
   "outputs": [],
   "source": [
    "import requests\n",
    "import pandas as pd"
   ]
  },
  {
   "cell_type": "markdown",
   "metadata": {},
   "source": [
    "# get imdb ids"
   ]
  },
  {
   "cell_type": "code",
   "execution_count": null,
   "metadata": {},
   "outputs": [],
   "source": [
    "# use links.csv to obtain imdb ids, then loop through some of them"
   ]
  },
  {
   "cell_type": "code",
   "execution_count": 31,
   "metadata": {},
   "outputs": [],
   "source": [
    "def get_ids(n):\n",
    "    dtype_dic= {'movieId': str,'imdbId' : str, \"tmdbId\": str}\n",
    "    IDdf = pd.read_csv(\"data/temp_links.csv\", dtype = dtype_dic)\n",
    "    idlist = list(IDdf[\"imdbId\"].head(n))\n",
    "    return idlist"
   ]
  },
  {
   "cell_type": "code",
   "execution_count": null,
   "metadata": {},
   "outputs": [],
   "source": [
    "imdbIDs = get_ids(10)"
   ]
  },
  {
   "cell_type": "markdown",
   "metadata": {},
   "source": [
    "# get data from omdb"
   ]
  },
  {
   "cell_type": "code",
   "execution_count": null,
   "metadata": {},
   "outputs": [],
   "source": [
    "#http://www.omdbapi.com/\n",
    "# API-key d3de5220"
   ]
  },
  {
   "cell_type": "code",
   "execution_count": 45,
   "metadata": {},
   "outputs": [],
   "source": [
    "# provide a list of datatypes that the columns shall have --> leading zeros!\n",
    "'''\n",
    "df_columns = [\"Title\", 'Year', 'Rated', 'Released', 'Runtime', 'Genre', 'Director','Writer','Actors','Plot','Language', \\\n",
    "              'Country','Awards', 'Poster', 'Ratings','Metascore','imdbRating','imdbVotes','imdbID','Type','DVD',\\\n",
    "              'BoxOffice','Production','Website','Response']\n",
    "\n",
    "df_dtypes = {'Title': str,'Year' : int, \"Rated\": str, \"Released\" : str, \"Runtime\": int, \"Genre\": str, \"Director\": str, \\\n",
    "            \"Writer\": str, \"Actors\": str, \"Plot\": str, \"Language\": str, \"Country\": str, \"Awards\": str, \"Poster\": str, \\\n",
    "            \"Ratings\": str, \"Metascore\": int, \"imdbRating\": str, \"imdbVotes\": str, \"imdbID\": str, \"Type\": str, \\\n",
    "            \"DVD\": str, \"BoxOffice\": str, \"Production\": str, \"Website\": str, \"Response\": str}\n",
    "'''"
   ]
  },
  {
   "cell_type": "code",
   "execution_count": null,
   "metadata": {},
   "outputs": [],
   "source": [
    "# Receiving data from API and putting it into df\n",
    "def get_data_from_omdb(imdbIDs):\n",
    "    df0 = pd.DataFrame()\n",
    "    for id in imdbIDs:\n",
    "        url = f\"http://www.omdbapi.com/?i=tt{id}&apikey=d3de5220\"\n",
    "        result = requests.get(url)\n",
    "        j = result.json()\n",
    "        df_single_movie = pd.DataFrame(j)\n",
    "        df0 = pd.concat([df0, df_single_movie])\n",
    "    return df0\n",
    "\n",
    "# all required cleaning operations\n",
    "def perform_cleaning(df):\n",
    "    df[\"Released\"] = pd.to_datetime(df[\"Released\"])\n",
    "    def get_mins(x):\n",
    "        y = x.replace(\" min\", \"\")\n",
    "        return y\n",
    "    #df[\"Runtime\"] = df[\"Runtime\"].apply(get_mins) \n",
    "    df[\"Runtime\"] = pd.to_numeric(df[\"Runtime\"])\n",
    "    df0 = df.drop_duplicates(keep = \"first\", inplace = False)\n",
    "    return df0"
   ]
  },
  {
   "cell_type": "code",
   "execution_count": null,
   "metadata": {},
   "outputs": [],
   "source": [
    "df_raw = get_data_from_omdb(imdbIDs)"
   ]
  },
  {
   "cell_type": "code",
   "execution_count": null,
   "metadata": {},
   "outputs": [],
   "source": [
    "df_cleaned = perform_cleaning(df_raw)"
   ]
  },
  {
   "cell_type": "code",
   "execution_count": 20,
   "metadata": {},
   "outputs": [],
   "source": [
    "#df0 = pd.read_csv(\"data/OMDB.csv\")\n",
    "#df0.info()"
   ]
  },
  {
   "cell_type": "code",
   "execution_count": 58,
   "metadata": {},
   "outputs": [],
   "source": [
    "#df = pd.read_csv(\"data/OMDB.csv\", dtype = df_dtypes)\n",
    "#df.head(3)"
   ]
  },
  {
   "cell_type": "code",
   "execution_count": 57,
   "metadata": {},
   "outputs": [],
   "source": [
    "#df.transpose()"
   ]
  },
  {
   "cell_type": "code",
   "execution_count": 54,
   "metadata": {},
   "outputs": [],
   "source": [
    "#df.to_csv(\"data/OMDB.csv\", index = False)"
   ]
  },
  {
   "cell_type": "code",
   "execution_count": null,
   "metadata": {},
   "outputs": [],
   "source": []
  }
 ],
 "metadata": {
  "kernelspec": {
   "display_name": "Python 3",
   "language": "python",
   "name": "python3"
  },
  "language_info": {
   "codemirror_mode": {
    "name": "ipython",
    "version": 3
   },
   "file_extension": ".py",
   "mimetype": "text/x-python",
   "name": "python",
   "nbconvert_exporter": "python",
   "pygments_lexer": "ipython3",
   "version": "3.6.5"
  }
 },
 "nbformat": 4,
 "nbformat_minor": 2
}
