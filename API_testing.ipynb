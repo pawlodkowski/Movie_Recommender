{
 "cells": [
  {
   "cell_type": "markdown",
   "metadata": {},
   "source": [
    "# Obtaining movie data, API-testing"
   ]
  },
  {
   "cell_type": "code",
   "execution_count": null,
   "metadata": {},
   "outputs": [],
   "source": [
    "# open questions:\n",
    "\n",
    "# API only allows 1k requests per day..\n",
    "# initial load (static database) or load on request, maybe another API required then?\n",
    "# regular updates?"
   ]
  },
  {
   "cell_type": "code",
   "execution_count": 1,
   "metadata": {},
   "outputs": [],
   "source": [
    "import requests\n",
    "import pandas as pd"
   ]
  },
  {
   "cell_type": "markdown",
   "metadata": {},
   "source": [
    "# get imdb ids"
   ]
  },
  {
   "cell_type": "code",
   "execution_count": null,
   "metadata": {},
   "outputs": [],
   "source": [
    "# uses links.csv, a list of random imdbIds from https://grouplens.org/datasets/movielens/ ,  to obtain imdb ids, \n",
    "# then loops through some of them and puts them into a list"
   ]
  },
  {
   "cell_type": "code",
   "execution_count": 40,
   "metadata": {},
   "outputs": [],
   "source": [
    "def get_ids(n):\n",
    "    dtype_dic= {'movieId': str,'imdbId' : str, \"tmdbId\": str}\n",
    "    IDdf = pd.read_csv(\"data/temp_links.csv\", dtype = dtype_dic)\n",
    "    idlist = list(IDdf[\"imdbId\"].head(n))\n",
    "    return idlist"
   ]
  },
  {
   "cell_type": "code",
   "execution_count": 48,
   "metadata": {},
   "outputs": [],
   "source": [
    "imdbIDs = get_ids(500)"
   ]
  },
  {
   "cell_type": "markdown",
   "metadata": {},
   "source": [
    "# get data from omdb"
   ]
  },
  {
   "cell_type": "code",
   "execution_count": null,
   "metadata": {},
   "outputs": [],
   "source": [
    "# http://www.omdbapi.com/\n",
    "# API-key d3de5220\n",
    "# max # of requests per day ~ 1k"
   ]
  },
  {
   "cell_type": "code",
   "execution_count": 49,
   "metadata": {},
   "outputs": [],
   "source": [
    "# Receiving data from API and putting it into df\n",
    "def get_data_from_omdb(imdbIDs):\n",
    "    df0 = pd.DataFrame()\n",
    "    for id in imdbIDs:\n",
    "        url = f\"http://www.omdbapi.com/?i=tt{id}&apikey=d3de5220\"\n",
    "        result = requests.get(url)\n",
    "        j = result.json()\n",
    "        df_single_movie = pd.DataFrame(j)\n",
    "        df0 = pd.concat([df0, df_single_movie])\n",
    "    return df0\n",
    "\n",
    "\n",
    "def perform_cleaning(df):\n",
    "    \n",
    "    # turns date of release into date format \n",
    "    df[\"Released\"] = pd.to_datetime(df[\"Released\"])\n",
    "    \n",
    "    #converting \"xx mins\" into \"xx\"\n",
    "    def get_mins(x):\n",
    "        y = x.replace(\" min\", \"\")\n",
    "        return y\n",
    "    df[\"Runtime\"] = df[\"Runtime\"].apply(get_mins) \n",
    "    df[\"Runtime\"] = pd.to_numeric(df[\"Runtime\"])\n",
    "    \n",
    "    # drops duplicates, for some reason same movie appears always three times in df when converting json file...\n",
    "    df0 = df.drop_duplicates(\"imdbID\",keep = \"first\", inplace = False)\n",
    "    return df0"
   ]
  },
  {
   "cell_type": "code",
   "execution_count": 50,
   "metadata": {},
   "outputs": [],
   "source": [
    "df_raw = get_data_from_omdb(imdbIDs)"
   ]
  },
  {
   "cell_type": "code",
   "execution_count": 51,
   "metadata": {},
   "outputs": [],
   "source": [
    "df = df_raw.copy()\n",
    "df = perform_cleaning(df_raw)"
   ]
  },
  {
   "cell_type": "code",
   "execution_count": 52,
   "metadata": {},
   "outputs": [],
   "source": [
    "df.to_csv(\"data/OMDB.csv\", index = False)"
   ]
  },
  {
   "cell_type": "markdown",
   "metadata": {},
   "source": [
    "# \"parked\" code for now"
   ]
  },
  {
   "cell_type": "code",
   "execution_count": 20,
   "metadata": {},
   "outputs": [],
   "source": [
    "#df0 = pd.read_csv(\"data/OMDB.csv\")\n",
    "#df0.info()"
   ]
  },
  {
   "cell_type": "code",
   "execution_count": 58,
   "metadata": {},
   "outputs": [],
   "source": [
    "#df = pd.read_csv(\"data/OMDB.csv\", dtype = df_dtypes)\n",
    "#df.head(3)"
   ]
  },
  {
   "cell_type": "code",
   "execution_count": 45,
   "metadata": {},
   "outputs": [],
   "source": [
    "# provide a list of datatypes that the columns shall have --> leading zeros?\n",
    "'''\n",
    "df_columns = [\"Title\", 'Year', 'Rated', 'Released', 'Runtime', 'Genre', 'Director','Writer','Actors','Plot','Language', \\\n",
    "              'Country','Awards', 'Poster', 'Ratings','Metascore','imdbRating','imdbVotes','imdbID','Type','DVD',\\\n",
    "              'BoxOffice','Production','Website','Response']\n",
    "\n",
    "df_dtypes = {'Title': str,'Year' : int, \"Rated\": str, \"Released\" : str, \"Runtime\": int, \"Genre\": str, \"Director\": str, \\\n",
    "            \"Writer\": str, \"Actors\": str, \"Plot\": str, \"Language\": str, \"Country\": str, \"Awards\": str, \"Poster\": str, \\\n",
    "            \"Ratings\": str, \"Metascore\": int, \"imdbRating\": str, \"imdbVotes\": str, \"imdbID\": str, \"Type\": str, \\\n",
    "            \"DVD\": str, \"BoxOffice\": str, \"Production\": str, \"Website\": str, \"Response\": str}\n",
    "'''"
   ]
  }
 ],
 "metadata": {
  "kernelspec": {
   "display_name": "Python 3",
   "language": "python",
   "name": "python3"
  },
  "language_info": {
   "codemirror_mode": {
    "name": "ipython",
    "version": 3
   },
   "file_extension": ".py",
   "mimetype": "text/x-python",
   "name": "python",
   "nbconvert_exporter": "python",
   "pygments_lexer": "ipython3",
   "version": "3.6.5"
  }
 },
 "nbformat": 4,
 "nbformat_minor": 2
}
