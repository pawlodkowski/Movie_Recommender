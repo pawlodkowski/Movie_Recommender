{
 "cells": [
  {
   "cell_type": "code",
   "execution_count": 139,
   "metadata": {},
   "outputs": [],
   "source": [
    "# preps\n",
    "\n",
    "import pandas as pd\n",
    "import sqlite3\n",
    "\n",
    "database_directory = \"data/movies.db\"\n",
    "\n",
    "def get_data_from_db(database_directory, tablename):\n",
    "    db = sqlite3.connect(database_directory)\n",
    "    query = f\"SELECT * FROM {tablename}\"\n",
    "    df = pd.read_sql(query, db)\n",
    "    db.close()\n",
    "    return df"
   ]
  },
  {
   "cell_type": "code",
   "execution_count": 254,
   "metadata": {},
   "outputs": [],
   "source": [
    "# make searchable extract: keywords vs movieIds\n",
    "\n",
    "def splitter1(x):\n",
    "    return \",\".join(x.split(\"|\")).lower()\n",
    "def splitter2(x):\n",
    "    return \",\".join(x.split(\",\")).lower()\n",
    "def splitter3(x):\n",
    "    return x.split(\",\")\n",
    "\n",
    "# load data\n",
    "dm = get_data_from_db(database_directory, \"movielens\")\n",
    "dt = get_data_from_db(database_directory, \"tags\")\n",
    "\n",
    "# make genres to a string\n",
    "dm[\"genres\"] = dm[\"genres\"].apply(splitter1)\n",
    "\n",
    "# group tags per movieid and make string out of it\n",
    "dt = dt.groupby([\"movieId\"])['tag'].apply(lambda x: ','.join(x)).reset_index()\n",
    "dt[\"tag\"] = dt[\"tag\"].apply(splitter2)\n",
    "\n",
    "# merge combined tags on dm\n",
    "df = pd.merge(dm, dt, how = \"left\", on = \"movieId\")\n",
    "df[\"tag\"].fillna(value = \"\", inplace = True)\n",
    "\n",
    "# keyword column\n",
    "df[\"keywords\"] = df[\"genres\"] + df[\"tag\"]  + df[\"title\"]\n",
    "\n",
    "# make extact for searching\n",
    "keywords = list(df[\"keywords\"])\n",
    "movieIds = list(df[\"movieId\"])\n",
    "\n",
    "keywords_and_movieids = list(zip(keywords, movieIds))"
   ]
  },
  {
   "cell_type": "code",
   "execution_count": 258,
   "metadata": {},
   "outputs": [
    {
     "data": {
      "text/plain": [
       "[49530, 79132, 99114]"
      ]
     },
     "execution_count": 258,
     "metadata": {},
     "output_type": "execute_result"
    }
   ],
   "source": [
    "# Option1 : Match ALL criteria\n",
    "\n",
    "filters = [\"caprio\", \"action\"]\n",
    "filtered_ids = []\n",
    "for i, movie in enumerate(keywords_and_movieids):\n",
    "    found = []\n",
    "    for keyword in filters:\n",
    "        if keyword.lower() in keywords_and_movieids[i][0]:\n",
    "            found.append(True)\n",
    "        else:\n",
    "            found.append(False)\n",
    "    if all(found):\n",
    "        filtered_ids.append(keywords_and_movieids[i][1])\n",
    "    else:\n",
    "        continue\n",
    "filtered_ids = sorted(list(set(filtered_ids)))\n",
    "filtered_ids"
   ]
  },
  {
   "cell_type": "code",
   "execution_count": 257,
   "metadata": {},
   "outputs": [
    {
     "data": {
      "text/plain": [
       "[11, 14, 440, 1608, 3386]"
      ]
     },
     "execution_count": 257,
     "metadata": {},
     "output_type": "execute_result"
    }
   ],
   "source": [
    "# Option2: Match ANY criteria\n",
    "\n",
    "filters = [\"president\"]\n",
    "filtered_ids = []\n",
    "for keyword in filters:\n",
    "    for i, movie in enumerate(keywords_and_movieids):\n",
    "        if keyword.lower() in keywords_and_movieids[i][0]:\n",
    "            filtered_ids.append(keywords_and_movieids[i][1])\n",
    "        else:\n",
    "            continue\n",
    "filtered_ids = sorted(list(set(filtered_ids)))\n",
    "filtered_ids"
   ]
  },
  {
   "cell_type": "code",
   "execution_count": null,
   "metadata": {},
   "outputs": [],
   "source": []
  }
 ],
 "metadata": {
  "kernelspec": {
   "display_name": "Python 3",
   "language": "python",
   "name": "python3"
  },
  "language_info": {
   "codemirror_mode": {
    "name": "ipython",
    "version": 3
   },
   "file_extension": ".py",
   "mimetype": "text/x-python",
   "name": "python",
   "nbconvert_exporter": "python",
   "pygments_lexer": "ipython3",
   "version": "3.6.6"
  }
 },
 "nbformat": 4,
 "nbformat_minor": 2
}
