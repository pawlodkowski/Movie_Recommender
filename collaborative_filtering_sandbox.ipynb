{
 "cells": [
  {
   "cell_type": "markdown",
   "metadata": {},
   "source": [
    "imports"
   ]
  },
  {
   "cell_type": "code",
   "execution_count": 1,
   "metadata": {},
   "outputs": [],
   "source": [
    "import pandas as pd\n",
    "import sqlite3\n",
    "from sklearn.metrics.pairwise import cosine_similarity"
   ]
  },
  {
   "cell_type": "code",
   "execution_count": 61,
   "metadata": {},
   "outputs": [],
   "source": [
    "def get_data_from_db(database_directory, tablename):\n",
    "    db = sqlite3.connect(database_directory)\n",
    "    query = f\"SELECT * FROM {tablename}\"\n",
    "    df = pd.read_sql(query, db)\n",
    "    return df\n",
    "\n",
    "def create_users_vs_movies_matrix(df):\n",
    "    df = df.drop(\"timestamp\", axis = 1)\n",
    "    df = df.set_index([\"userId\", \"movieId\"])\n",
    "    df = df.unstack()\n",
    "    df = df.fillna(0)\n",
    "    return df\n",
    " \n",
    "def make_cosine_heatmap(df):\n",
    "    labels = list(df.index.values) \n",
    "    cosine_similarities = cosine_similarity(df)\n",
    "    results_df = pd.DataFrame(cosine_similarities, columns = labels, index = labels)\n",
    "    return results_df\n",
    "\n",
    "def get_similar_users(cosine_heatmap, userId):\n",
    "    results_for_one_user = cosine_heatmap.loc[userId].sort_values(ascending = False) # get similar users\n",
    "    similar_users = list(results_for_one_user.keys())[1:]\n",
    "    return similar_users"
   ]
  },
  {
   "cell_type": "code",
   "execution_count": 50,
   "metadata": {},
   "outputs": [],
   "source": [
    "d0 = get_data_from_db(\"data/movies.db\", \"ratings\")"
   ]
  },
  {
   "cell_type": "code",
   "execution_count": 51,
   "metadata": {},
   "outputs": [],
   "source": [
    "similar_users = get_similar_users(make_cosine_heatmap(prepare_df_for_cosine_heatmap(d0)),1)"
   ]
  },
  {
   "cell_type": "markdown",
   "metadata": {},
   "source": [
    "create list of recommended movies"
   ]
  },
  {
   "cell_type": "code",
   "execution_count": 64,
   "metadata": {},
   "outputs": [],
   "source": [
    "# here a filtered df has to be used, as of now, this gives general recommendations\n",
    "users_vs_movies_matrix = create_users_vs_movies_matrix(d0)\n",
    "recommended_movie_ids = ((users_vs_movies_matrix.loc[1] == 0.0) & (users_vs_movies_matrix.loc[266] >= 4.0))\n",
    "#temp"
   ]
  },
  {
   "cell_type": "code",
   "execution_count": 65,
   "metadata": {},
   "outputs": [
    {
     "data": {
      "text/plain": [
       "        movieId\n",
       "rating  1          False\n",
       "        2          False\n",
       "        3          False\n",
       "        4          False\n",
       "        5          False\n",
       "        6          False\n",
       "        7          False\n",
       "        8          False\n",
       "        9          False\n",
       "        10         False\n",
       "        11         False\n",
       "        12         False\n",
       "        13         False\n",
       "        14         False\n",
       "        15         False\n",
       "        16          True\n",
       "        17         False\n",
       "        18         False\n",
       "        19         False\n",
       "        20         False\n",
       "        21          True\n",
       "        22         False\n",
       "        23         False\n",
       "        24         False\n",
       "        25         False\n",
       "        26         False\n",
       "        27         False\n",
       "        28         False\n",
       "        29         False\n",
       "        30         False\n",
       "                   ...  \n",
       "        188189     False\n",
       "        188301     False\n",
       "        188675     False\n",
       "        188751     False\n",
       "        188797     False\n",
       "        188833     False\n",
       "        189043     False\n",
       "        189111     False\n",
       "        189333     False\n",
       "        189381     False\n",
       "        189547     False\n",
       "        189713     False\n",
       "        190183     False\n",
       "        190207     False\n",
       "        190209     False\n",
       "        190213     False\n",
       "        190215     False\n",
       "        190219     False\n",
       "        190221     False\n",
       "        191005     False\n",
       "        193565     False\n",
       "        193567     False\n",
       "        193571     False\n",
       "        193573     False\n",
       "        193579     False\n",
       "        193581     False\n",
       "        193583     False\n",
       "        193585     False\n",
       "        193587     False\n",
       "        193609     False\n",
       "Length: 9724, dtype: bool"
      ]
     },
     "execution_count": 65,
     "metadata": {},
     "output_type": "execute_result"
    }
   ],
   "source": [
    "recommended_movie_ids"
   ]
  },
  {
   "cell_type": "code",
   "execution_count": 43,
   "metadata": {},
   "outputs": [
    {
     "ename": "NameError",
     "evalue": "name 'recommended_movie_ids' is not defined",
     "output_type": "error",
     "traceback": [
      "\u001b[1;31m---------------------------------------------------------------------------\u001b[0m",
      "\u001b[1;31mNameError\u001b[0m                                 Traceback (most recent call last)",
      "\u001b[1;32m<ipython-input-43-534de7b3cda6>\u001b[0m in \u001b[0;36m<module>\u001b[1;34m()\u001b[0m\n\u001b[1;32m----> 1\u001b[1;33m \u001b[0mrecommended_movie_ids\u001b[0m \u001b[1;31m## needs to be put in a list of unique movies\u001b[0m\u001b[1;33m\u001b[0m\u001b[0m\n\u001b[0m",
      "\u001b[1;31mNameError\u001b[0m: name 'recommended_movie_ids' is not defined"
     ]
    }
   ],
   "source": [
    "recommended_movie_ids ## needs to be put in a list of unique movies"
   ]
  },
  {
   "cell_type": "code",
   "execution_count": null,
   "metadata": {},
   "outputs": [],
   "source": [
    "compare = df.loc[[1, 266]].transpose()\n",
    "compare"
   ]
  }
 ],
 "metadata": {
  "kernelspec": {
   "display_name": "Python 3",
   "language": "python",
   "name": "python3"
  },
  "language_info": {
   "codemirror_mode": {
    "name": "ipython",
    "version": 3
   },
   "file_extension": ".py",
   "mimetype": "text/x-python",
   "name": "python",
   "nbconvert_exporter": "python",
   "pygments_lexer": "ipython3",
   "version": "3.6.6"
  }
 },
 "nbformat": 4,
 "nbformat_minor": 2
}
